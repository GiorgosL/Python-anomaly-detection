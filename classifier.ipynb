{
 "cells": [
  {
   "cell_type": "code",
   "execution_count": 55,
   "metadata": {},
   "outputs": [],
   "source": [
    "import keras\n",
    "import pandas as pd\n",
    "from keras import layers\n",
    "from sklearn import preprocessing\n",
    "from keras.optimizers import Adam\n",
    "import matplotlib.pyplot as plt\n",
    "from sklearn.preprocessing import StandardScaler"
   ]
  },
  {
   "cell_type": "code",
   "execution_count": 36,
   "metadata": {},
   "outputs": [],
   "source": [
    "class Preprocess:\n",
    "    def __init__(self,df_path):\n",
    "        self.df = pd.read_csv(df_path)\n",
    "        self.df = self.df.sort_values('Class')\n",
    "        \n",
    "    def scale_df(self):\n",
    "        sc = StandardScaler()\n",
    "        self.df['Time'] = sc.fit_transform(self.df['Time'].values.reshape(-1, 1))\n",
    "        self.df['Amount'] = sc.fit_transform(self.df['Amount'].values.reshape(-1, 1))\n",
    "    \n",
    "    def min_max_df(self):\n",
    "        min_max_scaler = preprocessing.MinMaxScaler()\n",
    "        self.x_scaled = min_max_scaler.fit_transform(self.df)\n",
    "        self.df = pd.DataFrame(self.x_scaled,columns=self.df.columns.tolist())\n",
    "    \n",
    "    def split_data(self, fraction, flag):\n",
    "        if flag == 'train':\n",
    "            self.df = self.df[:round(len(self.df)*fraction/100)]\n",
    "        if flag == 'test':\n",
    "            self.df = self.df[round(len(self.df)*fraction/100):]\n",
    "        x = self.df.loc[:, self.df.columns != 'Class']\n",
    "        return x"
   ]
  },
  {
   "cell_type": "code",
   "execution_count": 37,
   "metadata": {},
   "outputs": [],
   "source": [
    "pre = Preprocess('creditcard.csv')"
   ]
  },
  {
   "cell_type": "code",
   "execution_count": 38,
   "metadata": {},
   "outputs": [],
   "source": [
    "pre.scale_df()"
   ]
  },
  {
   "cell_type": "code",
   "execution_count": 39,
   "metadata": {},
   "outputs": [],
   "source": [
    "pre.min_max_df()"
   ]
  },
  {
   "cell_type": "code",
   "execution_count": 40,
   "metadata": {},
   "outputs": [],
   "source": [
    "x_train = pre.split_data(60, 'train')"
   ]
  },
  {
   "cell_type": "code",
   "execution_count": 41,
   "metadata": {},
   "outputs": [],
   "source": [
    "x_test = pre.split_data(60, 'test')"
   ]
  },
  {
   "cell_type": "code",
   "execution_count": 50,
   "metadata": {},
   "outputs": [],
   "source": [
    "class autoencoder:\n",
    "    \n",
    "    def __init__(self, x_train, x_test):\n",
    "        self.x_train = x_train\n",
    "        self.x_test = x_test\n",
    "    \n",
    "    def create_model(self):\n",
    "        input_img = keras.Input(shape=(self.x_train.shape[1],))\n",
    "        encoded = layers.Dense(15, activation='relu')(input_img)\n",
    "        encoded = layers.Dropout(0.4)(encoded)\n",
    "        encoded = layers.Dense(8, activation='relu')(encoded)\n",
    "        encoded = layers.Dropout(0.4)(encoded)\n",
    "        encoded = layers.Dense(4, activation='relu')(encoded)\n",
    "        decoded = layers.Dropout(0.4)(encoded)\n",
    "        decoded = layers.Dense(8, activation='relu')(encoded)\n",
    "        decoded = layers.Dropout(0.4)(decoded)\n",
    "        decoded = layers.Dense(15, activation='relu')(decoded)\n",
    "        decoded = layers.Dense(self.x_train.shape[1], activation='sigmoid')(decoded)\n",
    "        self.autoencoder = keras.Model(input_img, decoded)\n",
    "    \n",
    "    def compile_model(self):\n",
    "        self.autoencoder.compile(loss='binary_crossentropy',optimizer='adam')\n",
    "        self.autoencoder.summary()\n",
    "        \n",
    "    \n",
    "    def fit_model(self):\n",
    "        early_stop = keras.callbacks.EarlyStopping(\n",
    "                    monitor='val_loss',\n",
    "                    min_delta=0.0001,\n",
    "                    patience=10,\n",
    "                    verbose=1, \n",
    "                    mode='min',\n",
    "                    restore_best_weights=True)\n",
    "        self.history = self.autoencoder.fit(self.x_train, self.x_train,\n",
    "                epochs=50,\n",
    "                batch_size=64,\n",
    "                shuffle=True,\n",
    "                validation_data=(self.x_test, self.x_test),\n",
    "                callbacks = [early_stop],\n",
    "                verbose=1)\n",
    "        \n",
    "    def plot_model(self):\n",
    "        plt.plot(self.history.history['loss'], linewidth=2, label='Train')\n",
    "        plt.plot(self.history.history['val_loss'], linewidth=2, label='Test')\n",
    "        plt.legend(loc='upper right')\n",
    "        plt.title('Model loss')\n",
    "        plt.ylabel('Loss')\n",
    "        plt.xlabel('Epoch')\n",
    "        plt.show()\n",
    "        \n",
    "    def save_model(self,path):\n",
    "        self.autoencoder.save(path)"
   ]
  },
  {
   "cell_type": "code",
   "execution_count": 51,
   "metadata": {},
   "outputs": [],
   "source": [
    "ae = autoencoder(x_train, x_test)"
   ]
  },
  {
   "cell_type": "code",
   "execution_count": 52,
   "metadata": {},
   "outputs": [],
   "source": [
    "ae.create_model()"
   ]
  },
  {
   "cell_type": "code",
   "execution_count": 53,
   "metadata": {},
   "outputs": [
    {
     "name": "stdout",
     "output_type": "stream",
     "text": [
      "Model: \"model_2\"\n",
      "_________________________________________________________________\n",
      "Layer (type)                 Output Shape              Param #   \n",
      "=================================================================\n",
      "input_3 (InputLayer)         (None, 30)                0         \n",
      "_________________________________________________________________\n",
      "dense_12 (Dense)             (None, 15)                465       \n",
      "_________________________________________________________________\n",
      "dropout_9 (Dropout)          (None, 15)                0         \n",
      "_________________________________________________________________\n",
      "dense_13 (Dense)             (None, 8)                 128       \n",
      "_________________________________________________________________\n",
      "dropout_10 (Dropout)         (None, 8)                 0         \n",
      "_________________________________________________________________\n",
      "dense_14 (Dense)             (None, 4)                 36        \n",
      "_________________________________________________________________\n",
      "dense_15 (Dense)             (None, 8)                 40        \n",
      "_________________________________________________________________\n",
      "dropout_12 (Dropout)         (None, 8)                 0         \n",
      "_________________________________________________________________\n",
      "dense_16 (Dense)             (None, 15)                135       \n",
      "_________________________________________________________________\n",
      "dense_17 (Dense)             (None, 30)                480       \n",
      "=================================================================\n",
      "Total params: 1,284\n",
      "Trainable params: 1,284\n",
      "Non-trainable params: 0\n",
      "_________________________________________________________________\n"
     ]
    }
   ],
   "source": [
    "ae.compile_model()"
   ]
  },
  {
   "cell_type": "code",
   "execution_count": 54,
   "metadata": {},
   "outputs": [
    {
     "name": "stdout",
     "output_type": "stream",
     "text": [
      "Train on 170884 samples, validate on 68354 samples\n",
      "Epoch 1/50\n",
      "170884/170884 [==============================] - 10s 56us/step - loss: 0.5951 - val_loss: 0.5900\n",
      "Epoch 2/50\n",
      "170884/170884 [==============================] - 9s 50us/step - loss: 0.5888 - val_loss: 0.5894\n",
      "Epoch 3/50\n",
      "170884/170884 [==============================] - 9s 51us/step - loss: 0.5885 - val_loss: 0.5904\n",
      "Epoch 4/50\n",
      "170884/170884 [==============================] - 9s 50us/step - loss: 0.5884 - val_loss: 0.5907\n",
      "Epoch 5/50\n",
      "170884/170884 [==============================] - 9s 51us/step - loss: 0.5884 - val_loss: 0.5905\n",
      "Epoch 6/50\n",
      "170884/170884 [==============================] - 9s 50us/step - loss: 0.5883 - val_loss: 0.5911\n",
      "Epoch 7/50\n",
      "170884/170884 [==============================] - 9s 51us/step - loss: 0.5883 - val_loss: 0.5907\n",
      "Epoch 8/50\n",
      "170884/170884 [==============================] - 9s 50us/step - loss: 0.5883 - val_loss: 0.5907\n",
      "Epoch 9/50\n",
      "170884/170884 [==============================] - 9s 50us/step - loss: 0.5883 - val_loss: 0.5908\n",
      "Epoch 10/50\n",
      "170884/170884 [==============================] - 9s 52us/step - loss: 0.5882 - val_loss: 0.5904\n",
      "Epoch 11/50\n",
      "170884/170884 [==============================] - 10s 56us/step - loss: 0.5882 - val_loss: 0.5895\n",
      "Epoch 12/50\n",
      "170884/170884 [==============================] - 11s 63us/step - loss: 0.5880 - val_loss: 0.5887\n",
      "Epoch 13/50\n",
      "170884/170884 [==============================] - 12s 69us/step - loss: 0.5880 - val_loss: 0.5885\n",
      "Epoch 14/50\n",
      "170884/170884 [==============================] - 9s 53us/step - loss: 0.5879 - val_loss: 0.5884\n",
      "Epoch 15/50\n",
      "170884/170884 [==============================] - 9s 53us/step - loss: 0.5879 - val_loss: 0.5882\n",
      "Epoch 16/50\n",
      "170884/170884 [==============================] - 9s 52us/step - loss: 0.5879 - val_loss: 0.5883\n",
      "Epoch 17/50\n",
      "170884/170884 [==============================] - 9s 51us/step - loss: 0.5879 - val_loss: 0.5882\n",
      "Epoch 18/50\n",
      "170884/170884 [==============================] - 9s 53us/step - loss: 0.5879 - val_loss: 0.5882\n",
      "Epoch 19/50\n",
      "170884/170884 [==============================] - 9s 52us/step - loss: 0.5879 - val_loss: 0.5882\n",
      "Epoch 20/50\n",
      "170884/170884 [==============================] - 11s 63us/step - loss: 0.5879 - val_loss: 0.5882\n",
      "Epoch 21/50\n",
      "170884/170884 [==============================] - 11s 64us/step - loss: 0.5879 - val_loss: 0.5883\n",
      "Epoch 22/50\n",
      "170884/170884 [==============================] - 10s 57us/step - loss: 0.5879 - val_loss: 0.5884\n",
      "Epoch 23/50\n",
      "170884/170884 [==============================] - 9s 54us/step - loss: 0.5879 - val_loss: 0.5882\n",
      "Epoch 24/50\n",
      "170884/170884 [==============================] - 11s 62us/step - loss: 0.5879 - val_loss: 0.5880\n",
      "Epoch 25/50\n",
      "170884/170884 [==============================] - 9s 55us/step - loss: 0.5879 - val_loss: 0.5882\n",
      "Epoch 26/50\n",
      "170884/170884 [==============================] - 10s 59us/step - loss: 0.5878 - val_loss: 0.5881\n",
      "Epoch 27/50\n",
      "170884/170884 [==============================] - 10s 57us/step - loss: 0.5878 - val_loss: 0.5881\n",
      "Epoch 28/50\n",
      "170884/170884 [==============================] - 10s 60us/step - loss: 0.5878 - val_loss: 0.5881\n",
      "Epoch 29/50\n",
      "170884/170884 [==============================] - 9s 54us/step - loss: 0.5878 - val_loss: 0.5880\n",
      "Epoch 30/50\n",
      "170884/170884 [==============================] - 11s 64us/step - loss: 0.5878 - val_loss: 0.5881\n",
      "Epoch 31/50\n",
      "170884/170884 [==============================] - 11s 63us/step - loss: 0.5878 - val_loss: 0.5881\n",
      "Epoch 32/50\n",
      "170884/170884 [==============================] - 12s 72us/step - loss: 0.5878 - val_loss: 0.5881\n",
      "Epoch 33/50\n",
      "170884/170884 [==============================] - 14s 82us/step - loss: 0.5878 - val_loss: 0.5881\n",
      "Epoch 34/50\n",
      "170884/170884 [==============================] - 11s 66us/step - loss: 0.5878 - val_loss: 0.5880\n",
      "Restoring model weights from the end of the best epoch\n",
      "Epoch 00034: early stopping\n"
     ]
    }
   ],
   "source": [
    "ae.fit_model()"
   ]
  },
  {
   "cell_type": "code",
   "execution_count": 56,
   "metadata": {},
   "outputs": [
    {
     "data": {
      "image/png": "[encoded data removed]",
      "text/plain": [
       "<Figure size 432x288 with 1 Axes>"
      ]
     },
     "metadata": {
      "needs_background": "light"
     },
     "output_type": "display_data"
    }
   ],
   "source": [
    "ae.plot_model()"
   ]
  },
  {
   "cell_type": "code",
   "execution_count": 57,
   "metadata": {},
   "outputs": [],
   "source": [
    "ae.save_model('test.hdf5')"
   ]
  }
 ],
 "metadata": {
  "kernelspec": {
   "display_name": "Python 3",
   "language": "python",
   "name": "python3"
  },
  "language_info": {
   "codemirror_mode": {
    "name": "ipython",
    "version": 3
   },
   "file_extension": ".py",
   "mimetype": "text/x-python",
   "name": "python",
   "nbconvert_exporter": "python",
   "pygments_lexer": "ipython3",
   "version": "3.7.6"
  }
 },
 "nbformat": 4,
 "nbformat_minor": 4
}
